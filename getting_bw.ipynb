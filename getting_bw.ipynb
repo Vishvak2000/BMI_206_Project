{
 "cells": [
  {
   "cell_type": "code",
   "execution_count": 25,
   "metadata": {},
   "outputs": [],
   "source": [
    "import scanpy as sc\n",
    "import numpy as np"
   ]
  },
  {
   "cell_type": "code",
   "execution_count": 26,
   "metadata": {},
   "outputs": [],
   "source": [
    "adata = sc.read(\"GSE243917_peaksXcells_ALL_raw.h5ad\")"
   ]
  },
  {
   "cell_type": "code",
   "execution_count": 27,
   "metadata": {},
   "outputs": [],
   "source": [
    "adata = adata[adata.obs.ct.isin([\"fibroblast\",\"Tcell\",\"Bcell\"])]"
   ]
  },
  {
   "cell_type": "code",
   "execution_count": 4,
   "metadata": {},
   "outputs": [
    {
     "name": "stderr",
     "output_type": "stream",
     "text": [
      "/wynton/home/corces/vishvak/miniforge3/envs/scverse/lib/python3.8/site-packages/scanpy/preprocessing/_normalization.py:169: UserWarning: Received a view of an AnnData. Making a copy.\n",
      "  view_to_actual(adata)\n"
     ]
    }
   ],
   "source": [
    "sc.pp.normalize_total(adata, target_sum=1e4)\n",
    "sc.pp.log1p(adata)"
   ]
  },
  {
   "cell_type": "code",
   "execution_count": 28,
   "metadata": {},
   "outputs": [],
   "source": [
    "cell_type_avg={}\n",
    "\n",
    "for cell_type in adata.obs.ct.unique():\n",
    "    cells = adata[adata.obs['ct'] == cell_type]\n",
    "    avg_counts = np.array(cells.X.mean(axis=0)).flatten()  # Ensure it is a 1D array\n",
    "    cell_type_avg[cell_type] = avg_counts"
   ]
  },
  {
   "cell_type": "code",
   "execution_count": 29,
   "metadata": {},
   "outputs": [],
   "source": [
    "cell_types = adata.obs['ct'].unique()\n",
    "cell_type_avg = {}\n",
    "\n",
    "for cell_type in cell_types:\n",
    "    cells = adata[adata.obs['ct'] == cell_type]\n",
    "    avg_counts = np.array(cells.X.mean(axis=0)).flatten()  # Ensure it is a 1D array\n",
    "    cell_type_avg[cell_type] = avg_counts"
   ]
  },
  {
   "cell_type": "code",
   "execution_count": 30,
   "metadata": {},
   "outputs": [
    {
     "data": {
      "text/plain": [
       "array([0.07168125, 0.11519598, 0.11711419, ..., 0.04856133, 0.00080767,\n",
       "       0.19333725], dtype=float32)"
      ]
     },
     "execution_count": 30,
     "metadata": {},
     "output_type": "execute_result"
    }
   ],
   "source": [
    "cell_type_avg[\"fibroblast\"]"
   ]
  },
  {
   "cell_type": "code",
   "execution_count": 31,
   "metadata": {},
   "outputs": [],
   "source": [
    "def parse_peak(peak):\n",
    "    chrom, positions = peak.split(':')\n",
    "    start, end = positions.split('-')\n",
    "    return chrom, int(start), int(end)\n",
    "\n",
    "# Create a BedGraph file\n",
    "for cell_type, avg_counts in cell_type_avg.items():\n",
    "    with open(f'{cell_type}.bedgraph', 'w') as f:\n",
    "        # Write the track definition line\n",
    "        f.write(f'track type=bedGraph name=\"{cell_type}\" description=\"{cell_type} signal\" visibility=full color=200,100,0 altColor=0,100,200 priority=20\\n')\n",
    "        \n",
    "        for peak_idx, count in enumerate(avg_counts):\n",
    "            peak = adata.var.index[peak_idx]  # Assuming peaks are in the index\n",
    "            chrom, start, end = parse_peak(peak)\n",
    "            f.write(f'{chrom}\\t{start}\\t{end}\\t{count}\\n')\n"
   ]
  },
  {
   "cell_type": "code",
   "execution_count": 35,
   "metadata": {},
   "outputs": [
    {
     "name": "stderr",
     "output_type": "stream",
     "text": [
      "/scratch/vishvak/ipykernel_2745046/1625466632.py:16: SettingWithCopyWarning: \n",
      "A value is trying to be set on a copy of a slice from a DataFrame.\n",
      "Try using .loc[row_indexer,col_indexer] = value instead\n",
      "\n",
      "See the caveats in the documentation: https://pandas.pydata.org/pandas-docs/stable/user_guide/indexing.html#returning-a-view-versus-a-copy\n",
      "  filtered_data[['chrom', 'start', 'end']] = filtered_data['peak'].apply(parse_peak).apply(pd.Series)\n",
      "/scratch/vishvak/ipykernel_2745046/1625466632.py:16: SettingWithCopyWarning: \n",
      "A value is trying to be set on a copy of a slice from a DataFrame.\n",
      "Try using .loc[row_indexer,col_indexer] = value instead\n",
      "\n",
      "See the caveats in the documentation: https://pandas.pydata.org/pandas-docs/stable/user_guide/indexing.html#returning-a-view-versus-a-copy\n",
      "  filtered_data[['chrom', 'start', 'end']] = filtered_data['peak'].apply(parse_peak).apply(pd.Series)\n",
      "/scratch/vishvak/ipykernel_2745046/1625466632.py:16: SettingWithCopyWarning: \n",
      "A value is trying to be set on a copy of a slice from a DataFrame.\n",
      "Try using .loc[row_indexer,col_indexer] = value instead\n",
      "\n",
      "See the caveats in the documentation: https://pandas.pydata.org/pandas-docs/stable/user_guide/indexing.html#returning-a-view-versus-a-copy\n",
      "  filtered_data[['chrom', 'start', 'end']] = filtered_data['peak'].apply(parse_peak).apply(pd.Series)\n"
     ]
    }
   ],
   "source": [
    "import pandas as pd\n",
    "file_path = 'TCELL_2_covariate_output.txt'  # Replace with your actual file path\n",
    "data = pd.read_csv(file_path, sep=' ')\n",
    "\n",
    "# Filter by p-value threshold (e.g., p-value < 0.05)\n",
    "p_value_threshold = 0.05\n",
    "filtered_data = data[data['boot_basic_p'] < p_value_threshold]\n",
    "\n",
    "# Function to parse the peak information\n",
    "def parse_peak(peak):\n",
    "    chrom, positions = peak.split(':')\n",
    "    start, end = positions.split('-')\n",
    "    return chrom, int(start), int(end)\n",
    "\n",
    "# Extract chromosome, start, and end from the peak column\n",
    "filtered_data[['chrom', 'start', 'end']] = filtered_data['peak'].apply(parse_peak).apply(pd.Series)\n",
    "\n",
    "# Select relevant columns for BED file\n",
    "bed_data = filtered_data[['chrom', 'start', 'end']]\n",
    "\n",
    "# Save to BED file\n",
    "bed_file_path = 'Tcell_SCENT.bed'  # Replace with your desired output file path\n",
    "bed_data.to_csv(bed_file_path, sep='\\t', header=False, index=False)"
   ]
  },
  {
   "cell_type": "code",
   "execution_count": 36,
   "metadata": {},
   "outputs": [
    {
     "name": "stderr",
     "output_type": "stream",
     "text": [
      "/scratch/vishvak/ipykernel_2745046/3983426034.py:16: SettingWithCopyWarning: \n",
      "A value is trying to be set on a copy of a slice from a DataFrame.\n",
      "Try using .loc[row_indexer,col_indexer] = value instead\n",
      "\n",
      "See the caveats in the documentation: https://pandas.pydata.org/pandas-docs/stable/user_guide/indexing.html#returning-a-view-versus-a-copy\n",
      "  filtered_data[['chrom', 'start', 'end']] = filtered_data['peak'].apply(parse_peak).apply(pd.Series)\n",
      "/scratch/vishvak/ipykernel_2745046/3983426034.py:16: SettingWithCopyWarning: \n",
      "A value is trying to be set on a copy of a slice from a DataFrame.\n",
      "Try using .loc[row_indexer,col_indexer] = value instead\n",
      "\n",
      "See the caveats in the documentation: https://pandas.pydata.org/pandas-docs/stable/user_guide/indexing.html#returning-a-view-versus-a-copy\n",
      "  filtered_data[['chrom', 'start', 'end']] = filtered_data['peak'].apply(parse_peak).apply(pd.Series)\n",
      "/scratch/vishvak/ipykernel_2745046/3983426034.py:16: SettingWithCopyWarning: \n",
      "A value is trying to be set on a copy of a slice from a DataFrame.\n",
      "Try using .loc[row_indexer,col_indexer] = value instead\n",
      "\n",
      "See the caveats in the documentation: https://pandas.pydata.org/pandas-docs/stable/user_guide/indexing.html#returning-a-view-versus-a-copy\n",
      "  filtered_data[['chrom', 'start', 'end']] = filtered_data['peak'].apply(parse_peak).apply(pd.Series)\n"
     ]
    }
   ],
   "source": [
    "import pandas as pd\n",
    "file_path = 'SCENT_2_covariate_B_output/B_2_covariate_output.txt'  # Replace with your actual file path\n",
    "data = pd.read_csv(file_path, sep=' ')\n",
    "\n",
    "# Filter by p-value threshold (e.g., p-value < 0.05)\n",
    "p_value_threshold = 0.05\n",
    "filtered_data = data[data['boot_basic_p'] < p_value_threshold]\n",
    "\n",
    "# Function to parse the peak information\n",
    "def parse_peak(peak):\n",
    "    chrom, positions = peak.split(':')\n",
    "    start, end = positions.split('-')\n",
    "    return chrom, int(start), int(end)\n",
    "\n",
    "# Extract chromosome, start, and end from the peak column\n",
    "filtered_data[['chrom', 'start', 'end']] = filtered_data['peak'].apply(parse_peak).apply(pd.Series)\n",
    "\n",
    "# Select relevant columns for BED file\n",
    "bed_data = filtered_data[['chrom', 'start', 'end']]\n",
    "\n",
    "# Save to BED file\n",
    "bed_file_path = 'Bcell_SCENT.bed'  # Replace with your desired output file path\n",
    "bed_data.to_csv(bed_file_path, sep='\\t', header=False, index=False)"
   ]
  },
  {
   "cell_type": "code",
   "execution_count": 37,
   "metadata": {},
   "outputs": [
    {
     "name": "stderr",
     "output_type": "stream",
     "text": [
      "/scratch/vishvak/ipykernel_2745046/1390567506.py:16: SettingWithCopyWarning: \n",
      "A value is trying to be set on a copy of a slice from a DataFrame.\n",
      "Try using .loc[row_indexer,col_indexer] = value instead\n",
      "\n",
      "See the caveats in the documentation: https://pandas.pydata.org/pandas-docs/stable/user_guide/indexing.html#returning-a-view-versus-a-copy\n",
      "  filtered_data[['chrom', 'start', 'end']] = filtered_data['peak'].apply(parse_peak).apply(pd.Series)\n",
      "/scratch/vishvak/ipykernel_2745046/1390567506.py:16: SettingWithCopyWarning: \n",
      "A value is trying to be set on a copy of a slice from a DataFrame.\n",
      "Try using .loc[row_indexer,col_indexer] = value instead\n",
      "\n",
      "See the caveats in the documentation: https://pandas.pydata.org/pandas-docs/stable/user_guide/indexing.html#returning-a-view-versus-a-copy\n",
      "  filtered_data[['chrom', 'start', 'end']] = filtered_data['peak'].apply(parse_peak).apply(pd.Series)\n",
      "/scratch/vishvak/ipykernel_2745046/1390567506.py:16: SettingWithCopyWarning: \n",
      "A value is trying to be set on a copy of a slice from a DataFrame.\n",
      "Try using .loc[row_indexer,col_indexer] = value instead\n",
      "\n",
      "See the caveats in the documentation: https://pandas.pydata.org/pandas-docs/stable/user_guide/indexing.html#returning-a-view-versus-a-copy\n",
      "  filtered_data[['chrom', 'start', 'end']] = filtered_data['peak'].apply(parse_peak).apply(pd.Series)\n"
     ]
    }
   ],
   "source": [
    "import pandas as pd\n",
    "file_path = 'SCENT_2_covariate_output/fibroblast_2_covariate_output.txt'  # Replace with your actual file path\n",
    "data = pd.read_csv(file_path, sep=' ')\n",
    "\n",
    "# Filter by p-value threshold (e.g., p-value < 0.05)\n",
    "p_value_threshold = 0.05\n",
    "filtered_data = data[data['boot_basic_p'] < p_value_threshold]\n",
    "\n",
    "# Function to parse the peak information\n",
    "def parse_peak(peak):\n",
    "    chrom, positions = peak.split(':')\n",
    "    start, end = positions.split('-')\n",
    "    return chrom, int(start), int(end)\n",
    "\n",
    "# Extract chromosome, start, and end from the peak column\n",
    "filtered_data[['chrom', 'start', 'end']] = filtered_data['peak'].apply(parse_peak).apply(pd.Series)\n",
    "\n",
    "# Select relevant columns for BED file\n",
    "bed_data = filtered_data[['chrom', 'start', 'end']]\n",
    "\n",
    "# Save to BED file\n",
    "bed_file_path = 'Fibroblast_SCENT.bed'  # Replace with your desired output file path\n",
    "bed_data.to_csv(bed_file_path, sep='\\t', header=False, index=False)"
   ]
  },
  {
   "cell_type": "code",
   "execution_count": null,
   "metadata": {},
   "outputs": [],
   "source": []
  }
 ],
 "metadata": {
  "kernelspec": {
   "display_name": "scverse",
   "language": "python",
   "name": "python3"
  },
  "language_info": {
   "codemirror_mode": {
    "name": "ipython",
    "version": 3
   },
   "file_extension": ".py",
   "mimetype": "text/x-python",
   "name": "python",
   "nbconvert_exporter": "python",
   "pygments_lexer": "ipython3",
   "version": "3.8.20"
  }
 },
 "nbformat": 4,
 "nbformat_minor": 2
}
